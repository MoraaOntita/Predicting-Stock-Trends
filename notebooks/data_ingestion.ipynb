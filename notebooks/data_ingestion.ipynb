{
 "cells": [
  {
   "cell_type": "code",
   "execution_count": 1,
   "metadata": {},
   "outputs": [],
   "source": [
    "import yfinance as yf\n",
    "import os\n",
    "\n",
    "# Navigate to the root directory of your project\n",
    "root_directory = os.path.abspath(os.path.join(os.getcwd(), \"../\"))\n",
    "\n",
    "# Define the artifacts/data_ingestion folder relative to the root directory\n",
    "folder_path = os.path.join(root_directory, 'artifacts', 'data_ingestion')\n",
    "\n",
    "\n"
   ]
  },
  {
   "cell_type": "code",
   "execution_count": 2,
   "metadata": {},
   "outputs": [
    {
     "name": "stderr",
     "output_type": "stream",
     "text": [
      "[*********************100%***********************]  1 of 1 completed\n"
     ]
    }
   ],
   "source": [
    "# Create the folder if it doesn't exist\n",
    "os.makedirs(folder_path, exist_ok=True)\n",
    "\n",
    "# Fetch S&P 500 historical data from 2000 to 2023\n",
    "sp500_data = yf.download('^GSPC', start='2000-01-01', end='2023-11-01')\n",
    "\n"
   ]
  },
  {
   "cell_type": "code",
   "execution_count": 3,
   "metadata": {},
   "outputs": [
    {
     "name": "stdout",
     "output_type": "stream",
     "text": [
      "Price         Adj Close        Close         High          Low         Open  \\\n",
      "Ticker            ^GSPC        ^GSPC        ^GSPC        ^GSPC        ^GSPC   \n",
      "Date                                                                          \n",
      "2000-01-03  1455.219971  1455.219971  1478.000000  1438.359985  1469.250000   \n",
      "2000-01-04  1399.420044  1399.420044  1455.219971  1397.430054  1455.219971   \n",
      "2000-01-05  1402.109985  1402.109985  1413.270020  1377.680054  1399.420044   \n",
      "2000-01-06  1403.449951  1403.449951  1411.900024  1392.099976  1402.109985   \n",
      "2000-01-07  1441.469971  1441.469971  1441.469971  1400.729980  1403.449951   \n",
      "\n",
      "Price           Volume  \n",
      "Ticker           ^GSPC  \n",
      "Date                    \n",
      "2000-01-03   931800000  \n",
      "2000-01-04  1009000000  \n",
      "2000-01-05  1085500000  \n",
      "2000-01-06  1092300000  \n",
      "2000-01-07  1225200000  \n",
      "Data saved to /home/moraa-ontita/Documents/Machine-learning/Stock_Price_Prediction/artifacts/data_ingestion/SP500_historical_data.csv\n"
     ]
    }
   ],
   "source": [
    "# Display the first few rows of the dataset\n",
    "print(sp500_data.head())\n",
    "\n",
    "# Define the full file path\n",
    "file_path = os.path.join(folder_path, 'SP500_historical_data.csv')\n",
    "\n",
    "# Save the data to the specified folder\n",
    "sp500_data.to_csv(file_path)\n",
    "\n",
    "print(f\"Data saved to {file_path}\")"
   ]
  }
 ],
 "metadata": {
  "kernelspec": {
   "display_name": "venv",
   "language": "python",
   "name": "python3"
  },
  "language_info": {
   "codemirror_mode": {
    "name": "ipython",
    "version": 3
   },
   "file_extension": ".py",
   "mimetype": "text/x-python",
   "name": "python",
   "nbconvert_exporter": "python",
   "pygments_lexer": "ipython3",
   "version": "3.12.3"
  }
 },
 "nbformat": 4,
 "nbformat_minor": 2
}
