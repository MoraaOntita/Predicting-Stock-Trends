{
 "cells": [
  {
   "cell_type": "code",
   "execution_count": 1,
   "metadata": {},
   "outputs": [],
   "source": [
    "# Import libraries\n",
    "import pandas as pd\n",
    "import matplotlib.pyplot as plt\n",
    "import seaborn as sns\n"
   ]
  },
  {
   "cell_type": "code",
   "execution_count": 2,
   "metadata": {},
   "outputs": [
    {
     "data": {
      "text/html": [
       "<div>\n",
       "<style scoped>\n",
       "    .dataframe tbody tr th:only-of-type {\n",
       "        vertical-align: middle;\n",
       "    }\n",
       "\n",
       "    .dataframe tbody tr th {\n",
       "        vertical-align: top;\n",
       "    }\n",
       "\n",
       "    .dataframe thead th {\n",
       "        text-align: right;\n",
       "    }\n",
       "</style>\n",
       "<table border=\"1\" class=\"dataframe\">\n",
       "  <thead>\n",
       "    <tr style=\"text-align: right;\">\n",
       "      <th></th>\n",
       "      <th>Price</th>\n",
       "      <th>Adj Close</th>\n",
       "      <th>Close</th>\n",
       "      <th>High</th>\n",
       "      <th>Low</th>\n",
       "      <th>Open</th>\n",
       "      <th>Volume</th>\n",
       "    </tr>\n",
       "  </thead>\n",
       "  <tbody>\n",
       "    <tr>\n",
       "      <th>0</th>\n",
       "      <td>Ticker</td>\n",
       "      <td>^GSPC</td>\n",
       "      <td>^GSPC</td>\n",
       "      <td>^GSPC</td>\n",
       "      <td>^GSPC</td>\n",
       "      <td>^GSPC</td>\n",
       "      <td>^GSPC</td>\n",
       "    </tr>\n",
       "    <tr>\n",
       "      <th>1</th>\n",
       "      <td>Date</td>\n",
       "      <td>NaN</td>\n",
       "      <td>NaN</td>\n",
       "      <td>NaN</td>\n",
       "      <td>NaN</td>\n",
       "      <td>NaN</td>\n",
       "      <td>NaN</td>\n",
       "    </tr>\n",
       "    <tr>\n",
       "      <th>2</th>\n",
       "      <td>2000-01-03</td>\n",
       "      <td>1455.219970703125</td>\n",
       "      <td>1455.219970703125</td>\n",
       "      <td>1478.0</td>\n",
       "      <td>1438.3599853515625</td>\n",
       "      <td>1469.25</td>\n",
       "      <td>931800000</td>\n",
       "    </tr>\n",
       "    <tr>\n",
       "      <th>3</th>\n",
       "      <td>2000-01-04</td>\n",
       "      <td>1399.4200439453125</td>\n",
       "      <td>1399.4200439453125</td>\n",
       "      <td>1455.219970703125</td>\n",
       "      <td>1397.4300537109375</td>\n",
       "      <td>1455.219970703125</td>\n",
       "      <td>1009000000</td>\n",
       "    </tr>\n",
       "    <tr>\n",
       "      <th>4</th>\n",
       "      <td>2000-01-05</td>\n",
       "      <td>1402.1099853515625</td>\n",
       "      <td>1402.1099853515625</td>\n",
       "      <td>1413.27001953125</td>\n",
       "      <td>1377.6800537109375</td>\n",
       "      <td>1399.4200439453125</td>\n",
       "      <td>1085500000</td>\n",
       "    </tr>\n",
       "  </tbody>\n",
       "</table>\n",
       "</div>"
      ],
      "text/plain": [
       "        Price           Adj Close               Close               High  \\\n",
       "0      Ticker               ^GSPC               ^GSPC              ^GSPC   \n",
       "1        Date                 NaN                 NaN                NaN   \n",
       "2  2000-01-03   1455.219970703125   1455.219970703125             1478.0   \n",
       "3  2000-01-04  1399.4200439453125  1399.4200439453125  1455.219970703125   \n",
       "4  2000-01-05  1402.1099853515625  1402.1099853515625   1413.27001953125   \n",
       "\n",
       "                  Low                Open      Volume  \n",
       "0               ^GSPC               ^GSPC       ^GSPC  \n",
       "1                 NaN                 NaN         NaN  \n",
       "2  1438.3599853515625             1469.25   931800000  \n",
       "3  1397.4300537109375   1455.219970703125  1009000000  \n",
       "4  1377.6800537109375  1399.4200439453125  1085500000  "
      ]
     },
     "execution_count": 2,
     "metadata": {},
     "output_type": "execute_result"
    }
   ],
   "source": [
    "# Increase notebook display options for better visibility\n",
    "pd.set_option(\"display.max_columns\", None)\n",
    "pd.set_option(\"display.float_format\", lambda x: \"%.2f\" % x)\n",
    "\n",
    "# Load the data\n",
    "file_path = \"/home/moraa-ontita/Documents/Machine-learning/Stock_Price_Prediction/artifacts/data_ingestion/SP500_historical_data.csv\"\n",
    "df = pd.read_csv(file_path)\n",
    "\n",
    "# Display the first few rows of the dataset\n",
    "df.head()"
   ]
  },
  {
   "cell_type": "code",
   "execution_count": 3,
   "metadata": {},
   "outputs": [
    {
     "name": "stdout",
     "output_type": "stream",
     "text": [
      "<class 'pandas.core.frame.DataFrame'>\n",
      "RangeIndex: 5998 entries, 0 to 5997\n",
      "Data columns (total 7 columns):\n",
      " #   Column     Non-Null Count  Dtype \n",
      "---  ------     --------------  ----- \n",
      " 0   Price      5998 non-null   object\n",
      " 1   Adj Close  5997 non-null   object\n",
      " 2   Close      5997 non-null   object\n",
      " 3   High       5997 non-null   object\n",
      " 4   Low        5997 non-null   object\n",
      " 5   Open       5997 non-null   object\n",
      " 6   Volume     5997 non-null   object\n",
      "dtypes: object(7)\n",
      "memory usage: 328.1+ KB\n"
     ]
    }
   ],
   "source": [
    "df.info()\n"
   ]
  },
  {
   "cell_type": "code",
   "execution_count": 4,
   "metadata": {},
   "outputs": [
    {
     "data": {
      "text/html": [
       "<div>\n",
       "<style scoped>\n",
       "    .dataframe tbody tr th:only-of-type {\n",
       "        vertical-align: middle;\n",
       "    }\n",
       "\n",
       "    .dataframe tbody tr th {\n",
       "        vertical-align: top;\n",
       "    }\n",
       "\n",
       "    .dataframe thead th {\n",
       "        text-align: right;\n",
       "    }\n",
       "</style>\n",
       "<table border=\"1\" class=\"dataframe\">\n",
       "  <thead>\n",
       "    <tr style=\"text-align: right;\">\n",
       "      <th></th>\n",
       "      <th>Price</th>\n",
       "      <th>Adj Close</th>\n",
       "      <th>Close</th>\n",
       "      <th>High</th>\n",
       "      <th>Low</th>\n",
       "      <th>Open</th>\n",
       "      <th>Volume</th>\n",
       "    </tr>\n",
       "  </thead>\n",
       "  <tbody>\n",
       "    <tr>\n",
       "      <th>count</th>\n",
       "      <td>5998</td>\n",
       "      <td>5997</td>\n",
       "      <td>5997</td>\n",
       "      <td>5997</td>\n",
       "      <td>5997</td>\n",
       "      <td>5997</td>\n",
       "      <td>5997</td>\n",
       "    </tr>\n",
       "    <tr>\n",
       "      <th>unique</th>\n",
       "      <td>5998</td>\n",
       "      <td>5889</td>\n",
       "      <td>5889</td>\n",
       "      <td>5878</td>\n",
       "      <td>5894</td>\n",
       "      <td>5891</td>\n",
       "      <td>5839</td>\n",
       "    </tr>\n",
       "    <tr>\n",
       "      <th>top</th>\n",
       "      <td>2023-10-31</td>\n",
       "      <td>1097.280029296875</td>\n",
       "      <td>1097.280029296875</td>\n",
       "      <td>1263.8599853515625</td>\n",
       "      <td>1274.8599853515625</td>\n",
       "      <td>1139.9300537109375</td>\n",
       "      <td>4223740000</td>\n",
       "    </tr>\n",
       "    <tr>\n",
       "      <th>freq</th>\n",
       "      <td>1</td>\n",
       "      <td>3</td>\n",
       "      <td>3</td>\n",
       "      <td>3</td>\n",
       "      <td>4</td>\n",
       "      <td>3</td>\n",
       "      <td>12</td>\n",
       "    </tr>\n",
       "  </tbody>\n",
       "</table>\n",
       "</div>"
      ],
      "text/plain": [
       "             Price          Adj Close              Close                High  \\\n",
       "count         5998               5997               5997                5997   \n",
       "unique        5998               5889               5889                5878   \n",
       "top     2023-10-31  1097.280029296875  1097.280029296875  1263.8599853515625   \n",
       "freq             1                  3                  3                   3   \n",
       "\n",
       "                       Low                Open      Volume  \n",
       "count                 5997                5997        5997  \n",
       "unique                5894                5891        5839  \n",
       "top     1274.8599853515625  1139.9300537109375  4223740000  \n",
       "freq                     4                   3          12  "
      ]
     },
     "execution_count": 4,
     "metadata": {},
     "output_type": "execute_result"
    }
   ],
   "source": [
    "df.describe()"
   ]
  },
  {
   "cell_type": "code",
   "execution_count": 5,
   "metadata": {},
   "outputs": [
    {
     "name": "stdout",
     "output_type": "stream",
     "text": [
      "Rows: 5998, Columns: 7\n"
     ]
    }
   ],
   "source": [
    "print(f\"Rows: {df.shape[0]}, Columns: {df.shape[1]}\")"
   ]
  },
  {
   "cell_type": "markdown",
   "metadata": {},
   "source": [
    "# Data Transformations"
   ]
  },
  {
   "cell_type": "markdown",
   "metadata": {},
   "source": [
    "## Clean the Dataset"
   ]
  },
  {
   "cell_type": "markdown",
   "metadata": {},
   "source": [
    "Skipping unnecessary rows and resetting the column headers."
   ]
  },
  {
   "cell_type": "code",
   "execution_count": 6,
   "metadata": {},
   "outputs": [
    {
     "name": "stdout",
     "output_type": "stream",
     "text": [
      "         Date  Unnamed: 1  Unnamed: 2  Unnamed: 3  Unnamed: 4  Unnamed: 5  \\\n",
      "0  2000-01-03     1455.22     1455.22     1478.00     1438.36     1469.25   \n",
      "1  2000-01-04     1399.42     1399.42     1455.22     1397.43     1455.22   \n",
      "2  2000-01-05     1402.11     1402.11     1413.27     1377.68     1399.42   \n",
      "3  2000-01-06     1403.45     1403.45     1411.90     1392.10     1402.11   \n",
      "4  2000-01-07     1441.47     1441.47     1441.47     1400.73     1403.45   \n",
      "\n",
      "   Unnamed: 6  \n",
      "0   931800000  \n",
      "1  1009000000  \n",
      "2  1085500000  \n",
      "3  1092300000  \n",
      "4  1225200000  \n"
     ]
    }
   ],
   "source": [
    "# Skip the first two metadata rows\n",
    "df = pd.read_csv(file_path, skiprows=2)\n",
    "\n",
    "# Verify the first few rows\n",
    "print(df.head())"
   ]
  },
  {
   "cell_type": "code",
   "execution_count": 7,
   "metadata": {},
   "outputs": [],
   "source": [
    "# Rename columns to match expected structure if necessary\n",
    "df.columns = ['Date', 'Adj Close', 'Close', 'High', 'Low', 'Open', 'Volume']\n",
    "\n"
   ]
  },
  {
   "cell_type": "code",
   "execution_count": 8,
   "metadata": {},
   "outputs": [
    {
     "data": {
      "text/html": [
       "<div>\n",
       "<style scoped>\n",
       "    .dataframe tbody tr th:only-of-type {\n",
       "        vertical-align: middle;\n",
       "    }\n",
       "\n",
       "    .dataframe tbody tr th {\n",
       "        vertical-align: top;\n",
       "    }\n",
       "\n",
       "    .dataframe thead th {\n",
       "        text-align: right;\n",
       "    }\n",
       "</style>\n",
       "<table border=\"1\" class=\"dataframe\">\n",
       "  <thead>\n",
       "    <tr style=\"text-align: right;\">\n",
       "      <th></th>\n",
       "      <th>Date</th>\n",
       "      <th>Adj Close</th>\n",
       "      <th>Close</th>\n",
       "      <th>High</th>\n",
       "      <th>Low</th>\n",
       "      <th>Open</th>\n",
       "      <th>Volume</th>\n",
       "    </tr>\n",
       "  </thead>\n",
       "  <tbody>\n",
       "    <tr>\n",
       "      <th>0</th>\n",
       "      <td>2000-01-03</td>\n",
       "      <td>1455.22</td>\n",
       "      <td>1455.22</td>\n",
       "      <td>1478.00</td>\n",
       "      <td>1438.36</td>\n",
       "      <td>1469.25</td>\n",
       "      <td>931800000</td>\n",
       "    </tr>\n",
       "    <tr>\n",
       "      <th>1</th>\n",
       "      <td>2000-01-04</td>\n",
       "      <td>1399.42</td>\n",
       "      <td>1399.42</td>\n",
       "      <td>1455.22</td>\n",
       "      <td>1397.43</td>\n",
       "      <td>1455.22</td>\n",
       "      <td>1009000000</td>\n",
       "    </tr>\n",
       "    <tr>\n",
       "      <th>2</th>\n",
       "      <td>2000-01-05</td>\n",
       "      <td>1402.11</td>\n",
       "      <td>1402.11</td>\n",
       "      <td>1413.27</td>\n",
       "      <td>1377.68</td>\n",
       "      <td>1399.42</td>\n",
       "      <td>1085500000</td>\n",
       "    </tr>\n",
       "    <tr>\n",
       "      <th>3</th>\n",
       "      <td>2000-01-06</td>\n",
       "      <td>1403.45</td>\n",
       "      <td>1403.45</td>\n",
       "      <td>1411.90</td>\n",
       "      <td>1392.10</td>\n",
       "      <td>1402.11</td>\n",
       "      <td>1092300000</td>\n",
       "    </tr>\n",
       "    <tr>\n",
       "      <th>4</th>\n",
       "      <td>2000-01-07</td>\n",
       "      <td>1441.47</td>\n",
       "      <td>1441.47</td>\n",
       "      <td>1441.47</td>\n",
       "      <td>1400.73</td>\n",
       "      <td>1403.45</td>\n",
       "      <td>1225200000</td>\n",
       "    </tr>\n",
       "  </tbody>\n",
       "</table>\n",
       "</div>"
      ],
      "text/plain": [
       "         Date  Adj Close   Close    High     Low    Open      Volume\n",
       "0  2000-01-03    1455.22 1455.22 1478.00 1438.36 1469.25   931800000\n",
       "1  2000-01-04    1399.42 1399.42 1455.22 1397.43 1455.22  1009000000\n",
       "2  2000-01-05    1402.11 1402.11 1413.27 1377.68 1399.42  1085500000\n",
       "3  2000-01-06    1403.45 1403.45 1411.90 1392.10 1402.11  1092300000\n",
       "4  2000-01-07    1441.47 1441.47 1441.47 1400.73 1403.45  1225200000"
      ]
     },
     "execution_count": 8,
     "metadata": {},
     "output_type": "execute_result"
    }
   ],
   "source": [
    "# Reset the column headers and display the first few rows\n",
    "df.head()"
   ]
  },
  {
   "cell_type": "code",
   "execution_count": 9,
   "metadata": {},
   "outputs": [
    {
     "name": "stdout",
     "output_type": "stream",
     "text": [
      "<class 'pandas.core.frame.DataFrame'>\n",
      "RangeIndex: 5996 entries, 0 to 5995\n",
      "Data columns (total 7 columns):\n",
      " #   Column     Non-Null Count  Dtype  \n",
      "---  ------     --------------  -----  \n",
      " 0   Date       5996 non-null   object \n",
      " 1   Adj Close  5996 non-null   float64\n",
      " 2   Close      5996 non-null   float64\n",
      " 3   High       5996 non-null   float64\n",
      " 4   Low        5996 non-null   float64\n",
      " 5   Open       5996 non-null   float64\n",
      " 6   Volume     5996 non-null   int64  \n",
      "dtypes: float64(5), int64(1), object(1)\n",
      "memory usage: 328.0+ KB\n"
     ]
    }
   ],
   "source": [
    "df.info()"
   ]
  },
  {
   "cell_type": "markdown",
   "metadata": {},
   "source": [
    "## Convert columns to appropriate data types"
   ]
  },
  {
   "cell_type": "code",
   "execution_count": 10,
   "metadata": {},
   "outputs": [],
   "source": [
    "# Convert columns to appropriate data types\n",
    "df['Date'] = pd.to_datetime(df['Date'])  # Convert Date to datetime\n",
    "numeric_cols = ['Adj Close', 'Close', 'High', 'Low', 'Open', 'Volume']\n",
    "df[numeric_cols] = df[numeric_cols].apply(pd.to_numeric, errors='coerce')"
   ]
  },
  {
   "cell_type": "code",
   "execution_count": 11,
   "metadata": {},
   "outputs": [
    {
     "name": "stdout",
     "output_type": "stream",
     "text": [
      "<class 'pandas.core.frame.DataFrame'>\n",
      "RangeIndex: 5996 entries, 0 to 5995\n",
      "Data columns (total 7 columns):\n",
      " #   Column     Non-Null Count  Dtype         \n",
      "---  ------     --------------  -----         \n",
      " 0   Date       5996 non-null   datetime64[ns]\n",
      " 1   Adj Close  5996 non-null   float64       \n",
      " 2   Close      5996 non-null   float64       \n",
      " 3   High       5996 non-null   float64       \n",
      " 4   Low        5996 non-null   float64       \n",
      " 5   Open       5996 non-null   float64       \n",
      " 6   Volume     5996 non-null   int64         \n",
      "dtypes: datetime64[ns](1), float64(5), int64(1)\n",
      "memory usage: 328.0 KB\n",
      "None\n"
     ]
    }
   ],
   "source": [
    "# Display information to verify\n",
    "print(df.info())"
   ]
  },
  {
   "cell_type": "code",
   "execution_count": 13,
   "metadata": {},
   "outputs": [
    {
     "name": "stdout",
     "output_type": "stream",
     "text": [
      "Date         0\n",
      "Adj Close    0\n",
      "Close        0\n",
      "High         0\n",
      "Low          0\n",
      "Open         0\n",
      "Volume       0\n",
      "dtype: int64\n"
     ]
    }
   ],
   "source": [
    "# Check for missing values\n",
    "print(df.isnull().sum())"
   ]
  },
  {
   "cell_type": "code",
   "execution_count": null,
   "metadata": {},
   "outputs": [],
   "source": []
  },
  {
   "cell_type": "markdown",
   "metadata": {},
   "source": [
    "# Saving the file"
   ]
  },
  {
   "cell_type": "code",
   "execution_count": 15,
   "metadata": {},
   "outputs": [
    {
     "name": "stdout",
     "output_type": "stream",
     "text": [
      "File saved successfully to /home/moraa-ontita/Documents/Machine-learning/Stock_Price_Prediction/artifacts/notebooks/eda.csv\n"
     ]
    }
   ],
   "source": [
    "import os\n",
    "\n",
    "# Define the absolute path for the output file in the root directory\n",
    "root_dir = \"/home/moraa-ontita/Documents/Machine-learning/Stock_Price_Prediction\"\n",
    "output_file = os.path.join(root_dir, \"artifacts/notebooks\", \"eda.csv\")\n",
    "\n",
    "# Create the necessary directories if they don't exist\n",
    "os.makedirs(os.path.dirname(output_file), exist_ok=True)\n",
    "\n",
    "# Save the cleaned DataFrame as eda.csv in the root directory\n",
    "df.to_csv(output_file, index=False)  # index=False to avoid saving row numbers\n",
    "\n",
    "print(f\"File saved successfully to {output_file}\")\n"
   ]
  },
  {
   "cell_type": "code",
   "execution_count": null,
   "metadata": {},
   "outputs": [],
   "source": []
  }
 ],
 "metadata": {
  "kernelspec": {
   "display_name": "venv",
   "language": "python",
   "name": "python3"
  },
  "language_info": {
   "codemirror_mode": {
    "name": "ipython",
    "version": 3
   },
   "file_extension": ".py",
   "mimetype": "text/x-python",
   "name": "python",
   "nbconvert_exporter": "python",
   "pygments_lexer": "ipython3",
   "version": "3.12.3"
  }
 },
 "nbformat": 4,
 "nbformat_minor": 2
}
